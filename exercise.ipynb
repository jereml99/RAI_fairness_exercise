{
 "cells": [
  {
   "cell_type": "markdown",
   "metadata": {},
   "source": [
    "# RAI Exercise 1: Algorithmic Fairness ⚖️     \n",
    "\n",
    "# Important information\n",
    "This exercise is part of the RAI course (02517 - **Responsible AI: Algorithmic Fairness and Explainability**) at the Technical University of Denmark (DTU). You can find more details about the course [here](https://kurser.dtu.dk/course/02517). This specific version is for the Fall 2024 semester.\n",
    "\n",
    "If you have any questions related to this notebook, feel free to reach out to Nina Weng at *ninwe@dtu.dk*.\n",
    "\n",
    "**Credits**:  \n",
    "We thank:\n",
    "* NIH dataset team for collecting such dataset [link to the paper](https://openaccess.thecvf.com/content_cvpr_2017/papers/Wang_ChestX-ray8_Hospital-Scale_Chest_CVPR_2017_paper.pdf);\n",
    "* Authors from [this paper](https://link.springer.com/chapter/10.1007/978-3-031-45249-9_14) for providing the splits;\n",
    "* [Memes generator webpage imgflip](https://imgflip.com/) for all the excellent Memes template.\n",
    "\n",
    "\n",
    "# PART 1: Fairness assessment and Bias mitigation using Fairlearn\n",
    "\n",
    "The goal of this exercise is to learn how to use [Fairlearn](https://fairlearn.org/) to approach basic fairness assessments and apply post-processing bias mitigation methods. \n",
    "\n",
    "Fairlearn is an open-source Python package originally developed by Microsoft Research. Since 2021, it has become completely community-driven. For more information about Fairlearn, you can visit [this page]((https://fairlearn.org/v0.10/about/index.html)). \n",
    "\n",
    "Although Fairlearn is likely the most well-developed package targeting fairness issues, it has its limitations. The most notable limitation, that might need to be mentioned at very beginning for this exercise, is that Fairlearn is primarily designed for tabular data ([this page](https://fairlearn.org/main/faq.html) under question: *Does Fairlearn work for image and text data?*). Therefore, when working with other types of data, such as image data, unexpected issues may arise. Fortunate enough, there are workarounds for most of these issues, which will be discussed later in this exercise.\n",
    "\n",
    "While Fairlearn is a good resource and offers an easy approach for learning fairness concepts and handling lighter tasks, it may not be the best solution for researchers working extensively in this area. Keep that in mind :-)"
   ]
  },
  {
   "cell_type": "markdown",
   "metadata": {},
   "source": [
    "## 🧠 Objective of this Exercise (PART 1)\n",
    "By the end of this exercise, you should be able to:\n",
    "\n",
    "* Assess fairness using Fairlearn with provided predictions/probabilities and target labels. This includes calculating metrics, generating ROC curves, and interpreting their meaning.\n",
    "* Apply post-processing bias mitigation techniques using Fairlearn, and clearly understand and explain the outcomes."
   ]
  },
  {
   "cell_type": "markdown",
   "metadata": {},
   "source": [
    "![](./support4notebook/getstarted.jpg)"
   ]
  },
  {
   "cell_type": "markdown",
   "metadata": {},
   "source": [
    "## 1. Dataset: Chest X-ray and lung/heart related disease\n",
    "\n",
    "\n",
    "In this exercise, we will use a chest X-ray dataset and a basic deep learning model as the setup. It requires the following:\n",
    "\n",
    "* Download the dataset/metadata/pretrained ResNet model. Note that in this exercise, we only use part of the data, and details are listed below. The full dataset can be found [here](https://nihcc.app.box.com/v/ChestXray-NIHCC). (For students in the class, you can find a download link on DTU Learn. For those not in the class, you can find the pre-processing scripts in [this repository](https://github.com/nina-weng/detecting_causes_of_gender_bias_chest_xrays).)\n",
    "* After downloading the materials, put the `NIH_train_val_test_rs0_f50.csv` under `./datafiles/`; and `nih_pneumothorax.pth` under `./pretrained_model/`.\n",
    "* Prepare your virtual environment: \n",
    "`conda env create -f env.yml`\n",
    "\n",
    "\n",
    "### Chest xray samples\n",
    "We use [NIH chest xray dataset](https://www.nih.gov/news-events/news-releases/nih-clinical-center-provides-one-largest-publicly-available-chest-x-ray-datasets-scientific-community) in this exercise. Let’s take a closer look at the dataset. </br>\n",
    "\n",
    "This dataset contains 108,948 images from 32,717 patients, each labeled with one of 14 types of lung or heart-related diseases/symptoms. For detailed information on each disease, you can find explanations [here](https://nihcc.app.box.com/v/ChestXray-NIHCC/file/220660789610).\n",
    "\n",
    "For simplicity, we will use only one sample per patient and preprocess the images to a size of 224x224. Both the dataset and the metadata (in CSV format) are available. The dataset split is also specified in the metadata under the column 'split'.\n",
    "\n",
    "Note: The split was designed for a different task, which required a larger test set than usual. As a result (as you’ll notice), the test set is relatively large (around 8k for training, 2k for validation, and 8k for testing). If you find that the mitigation or prediction process takes too long, feel free to downsample the test set. Just ensure you validate that the proportions of samples across different sensitive groups and disease labels remain roughly consistent with the original test set.  "
   ]
  },
  {
   "cell_type": "code",
   "execution_count": 1,
   "metadata": {},
   "outputs": [],
   "source": [
    "import os\n",
    "import matplotlib.pyplot as plt\n",
    "import matplotlib.image as mpimg\n",
    "import pandas as pd\n",
    "import seaborn as sns\n",
    "sns.set_theme(style=\"whitegrid\")\n",
    "import torch\n",
    "\n",
    "from tqdm import tqdm\n",
    "from sklearn.metrics import accuracy_score\n",
    "from fairlearn.metrics import MetricFrame, selection_rate,false_positive_rate,true_positive_rate,false_negative_rate,true_negative_rate\n",
    "\n",
    "\n",
    "#\n",
    "from train.model import ResNet\n",
    "from train.prediction import validate\n",
    "from analysis.plot import plot_roc_simple\n",
    "from analysis.tools import from_loader_to_tensor"
   ]
  },
  {
   "cell_type": "code",
   "execution_count": 2,
   "metadata": {},
   "outputs": [],
   "source": [
    "#TODO: change this to your data directory\n",
    "datadir = \"datafiles\""
   ]
  },
  {
   "cell_type": "markdown",
   "metadata": {},
   "source": [
    "Let us take a look of some samples, with filter query. "
   ]
  },
  {
   "cell_type": "code",
   "execution_count": null,
   "metadata": {},
   "outputs": [],
   "source": [
    "dataset_pth = datadir + '/NIH_part/'\n",
    "metadata_csv ='./datafiles/NIH_train_val_test_rs0_f50.csv'\n",
    "metadata = pd.read_csv(metadata_csv)\n",
    "\n",
    "# display(metadata.head(5))\n",
    "\n",
    "# randomly choose some samples from PAD-UFES-20\n",
    "def show_random_images(datadir,metadata,seed=None,filter_str=None,num_sample=5):\n",
    "    fig = plt.figure(figsize=(num_sample*3, 3),dpi=200)\n",
    "    files = os.listdir(datadir)\n",
    "    if filter_str:\n",
    "        metadata = metadata.query(filter_str)\n",
    "        # display(metadata.head(5))\n",
    "    if seed is not None:\n",
    "        random_sample = metadata.sample(n=num_sample, random_state=seed)\n",
    "    else: random_sample = metadata.sample(n=num_sample)\n",
    "    \n",
    "    for i in range(len(random_sample)):\n",
    "        row = random_sample.iloc[i]\n",
    "        disease = row['Pneumothorax']\n",
    "        sex = row['Patient Gender']\n",
    "\n",
    "        img = mpimg.imread(datadir + row['Image Index'])\n",
    "        ax = fig.add_subplot(1, len(random_sample), i + 1)\n",
    "        # add diagnosis as subtitle\n",
    "        ax.set_title(f'{disease=},{sex=}')\n",
    "        ax.imshow(img, cmap='gray')\n",
    "        ax.axis('off')\n",
    "    plt.suptitle(f'{filter_str}')\n",
    "    plt.show()\n",
    "\n",
    "show_random_images(dataset_pth,metadata=metadata,seed=42,filter_str='Pneumothorax==1 and `Patient Gender`==\"F\"',num_sample=5)\n",
    "show_random_images(dataset_pth,metadata=metadata,seed=42,filter_str='Pneumothorax==1 and `Patient Gender`==\"M\"',num_sample=5)"
   ]
  },
  {
   "cell_type": "markdown",
   "metadata": {},
   "source": [
    "### Basic statistics\n",
    "\n",
    "We can also take a look at the distribution of some sensitive attributes:"
   ]
  },
  {
   "cell_type": "code",
   "execution_count": null,
   "metadata": {},
   "outputs": [],
   "source": [
    "def plot_distribution_by_value(metadata, column_name):\n",
    "    if isinstance(column_name, str):\n",
    "        nan_count = metadata[column_name].isna().sum()\n",
    "        nan_series = pd.Series([nan_count], index=['NaN'])\n",
    "        counts_ = metadata[column_name].value_counts().sort_index()\n",
    "        counts_with_nan = pd.concat([counts_, nan_series])\n",
    "\n",
    "        counts_with_nan.plot(kind='bar',title='Distribution of {}'.format(column_name))\n",
    "        plt.ylabel('count')\n",
    "    elif isinstance(column_name, list):\n",
    "        fig, axes = plt.subplots( 1, len(column_name), figsize=( len(column_name)*4,3),dpi=200)\n",
    "        for i,col in enumerate(column_name):\n",
    "            nan_count = metadata[col].isna().sum()\n",
    "            nan_series = pd.Series([nan_count], index=['NaN'])\n",
    "            counts_ = metadata[col].value_counts().sort_index()\n",
    "            counts_with_nan = pd.concat([counts_, nan_series])\n",
    "\n",
    "            counts_with_nan.plot(kind='bar',title='Distribution of {}'.format(col),ax=axes[i])\n",
    "            axes[i].set_ylabel('count')\n",
    "    plt.tight_layout()\n",
    "    plt.show()\n",
    "\n",
    "metadata['age_range'] = pd.cut(metadata['Patient Age'], bins=[0,10,20,30,40,50,60,70,80,90,100], right=False)\n",
    "plot_distribution_by_value(metadata, ['age_range','Patient Gender'])"
   ]
  },
  {
   "cell_type": "markdown",
   "metadata": {},
   "source": [
    "You may have noticed that, for this specific split, we maintain an equal number of male and female samples. This balance is consistent across all three splits: training, validation, and testing."
   ]
  },
  {
   "cell_type": "markdown",
   "metadata": {},
   "source": [
    "### 📃 Further Reading:\n",
    "If you're interested, here are some studies that explore potential biases and confounders in chest xray datasets:\n",
    "* [Lauren Oakden-Rayner: Exploring the ChestXray14 dataset: problems](https://laurenoakdenrayner.com/2017/12/18/the-chestxray14-dataset-problems/)\n",
    "* [Amelia Jiménez-Sánchez et al.: Detecting Shortcuts in Medical Images -- A Case Study in Chest X-rays](https://arxiv.org/abs/2211.04279)\n",
    "* [Judy Wawira Gichoya et al.: AI recognition of patient race in medical imaging: a modelling study](https://www.thelancet.com/journals/landig/article/PIIS2589-7500(22)00063-2/fulltext)"
   ]
  },
  {
   "cell_type": "markdown",
   "metadata": {},
   "source": [
    "## 2. Fairness assessment\n",
    "**Recap of Key Concepts**:\n",
    "\n",
    "In th class, we have learned:\n",
    "* The three key criteria for fairness assessment. What are they?\n",
    "- Independence - The same acteptence rate for all groups\n",
    "- Seperation - The same error for all groups\n",
    "- something? - the same score give same probability of acceptence for all groups??\n",
    "* Evaluation metrics corresponding to each criterion.\n",
    "* ROC curves.\n",
    "\n",
    "For this exercise, we’ve provided a pre-trained ResNet classifier for Part 1, where the disease label is `Pneumothorax` and the sensitive attribute is `sex` (in metadata, you can get the binarized sex label from column `sex label`, where 0 represents female and 1 represents male). However, feel free to train your own model if you'd like.\n",
    "\n",
    "\n",
    "\n",
    "### Load pretrained model"
   ]
  },
  {
   "cell_type": "code",
   "execution_count": null,
   "metadata": {},
   "outputs": [],
   "source": [
    "# load the pretrained model\n",
    "device = 'cuda' if torch.cuda.is_available() else 'cpu'\n",
    "print(' device:', device)\n",
    "\n",
    "ds_name = 'NIH'\n",
    "\n",
    "# load the model\n",
    "lr=1e-6\n",
    "pretrained = True\n",
    "model_scale = '18'\n",
    "num_epochs =20\n",
    "img_size = (1, 224, 224)\n",
    "\n",
    "classifier = ResNet(num_classes=1, lr=lr, pretrained=pretrained, model_scale=model_scale, in_channel=img_size[0])\n",
    "classifier.load_state_dict(torch.load('./pretrained_model/nih_pneumothorax.pth'))\n",
    "classifier.to(device)\n",
    "\n",
    "classifier.eval()\n"
   ]
  },
  {
   "cell_type": "markdown",
   "metadata": {},
   "source": [
    "### Load test and validation data"
   ]
  },
  {
   "cell_type": "code",
   "execution_count": null,
   "metadata": {},
   "outputs": [],
   "source": [
    "save_model_at = './pretrained_models/'\n",
    "\n",
    "img_size = (1,224,224)\n",
    "batch_size = 16\n",
    "\n",
    "csv_pth = './datafiles/NIH_train_val_test_rs0_f50.csv' if ds_name == 'NIH' else None\n",
    "\n",
    "disease_label = 'Pneumothorax' \n",
    "sensitive_label = 'sex'\n",
    "augmentation = False\n",
    "\n",
    "from train.train_chestxray import create_datasets\n",
    "\n",
    "train_dataset, val_dataset, test_dataset = create_datasets(dataset_pth, \n",
    "                                                               ds_name,\n",
    "                                                               csv_pth, \n",
    "                                                               image_size=img_size, \n",
    "                                                               device=device,\n",
    "                                                               disease_label = disease_label,\n",
    "                                                               sensitive_label = sensitive_label,\n",
    "                                                               augmentation=augmentation)\n",
    "# train_loader = torch.utils.data.DataLoader(train_dataset, batch_size=batch_size, shuffle=True) # we dont need it here\n",
    "val_loader = torch.utils.data.DataLoader(val_dataset, batch_size=batch_size, shuffle=False)\n",
    "test_loader = torch.utils.data.DataLoader(test_dataset, batch_size=batch_size, shuffle=False)\n"
   ]
  },
  {
   "cell_type": "markdown",
   "metadata": {},
   "source": [
    "### Predict the results for test set"
   ]
  },
  {
   "cell_type": "code",
   "execution_count": null,
   "metadata": {},
   "outputs": [],
   "source": [
    "test_lab, test_pred, test_prob, test_a= validate(classifier, test_loader, device=device)\n",
    "val_lav, val_pred, val_prob, val_a = validate(classifier, val_loader, device=device)"
   ]
  },
  {
   "cell_type": "markdown",
   "metadata": {},
   "source": [
    "### Assess fairness using Fairlearn\n",
    "#### A simple example first\n",
    "\n",
    "Fairlearn provides the `fairlearn.metrics.MetricFrame` class to help with this quantification. \n",
    "\n",
    "Given: \n",
    "<pre>\n",
    "y_true = [0, 1, 1, 1, 1, 0, 1, 0, 1, 0, 0, 0, 1, 1, 1, 1, 1, 1]\n",
    "y_pred = [0, 0, 1, 0, 1, 1, 1, 0, 0, 1, 1, 1, 1, 0, 0, 1, 1, 0]\n",
    "sf_data = ['b', 'b', 'a', 'b', 'b', 'c', 'c', 'c', 'a',\n",
    "           'a', 'c', 'a', 'b', 'c', 'c', 'b', 'c', 'c']\n",
    "</pre>\n",
    "           \n"
   ]
  },
  {
   "cell_type": "markdown",
   "metadata": {},
   "source": [
    "![](./support4notebook/exercise_time.gif)"
   ]
  },
  {
   "cell_type": "markdown",
   "metadata": {},
   "source": [
    "Try: \n",
    "* measure: recall, selection rate and false positive rate for *each group*;\n",
    "* plot the above result out; ([Hint](https://fairlearn.org/main/user_guide/assessment/plotting.html))\n",
    "* measure the difference in eqaulized odd between different groups;\n",
    "\n",
    "\n",
    "Hint: The documentation page of [MetricFrame](https://fairlearn.org/main/api_reference/generated/fairlearn.metrics.MetricFrame.html#fairlearn.metrics.MetricFrame)"
   ]
  },
  {
   "cell_type": "code",
   "execution_count": 9,
   "metadata": {},
   "outputs": [],
   "source": [
    "from sklearn.metrics import confusion_matrix\n",
    "\n",
    "\n",
    "def NPV(y_true, y_pred):\n",
    "    cm = confusion_matrix(y_true, y_pred)\n",
    "    # Extract the confusion matrix components\n",
    "    TN = cm[0, 0]\n",
    "    FP = cm[0, 1]\n",
    "    FN = cm[1, 0]\n",
    "    TP = cm[1, 1]\n",
    "    return TN / (TN + FN)\n"
   ]
  },
  {
   "cell_type": "code",
   "execution_count": null,
   "metadata": {},
   "outputs": [],
   "source": [
    "from fairlearn.metrics import MetricFrame, selection_rate, count, false_positive_rate, true_positive_rate\n",
    "from sklearn.metrics import accuracy_score, precision_score\n",
    "y_true = [0, 1, 1, 1, 1, 0, 1, 0, 1, 0, 0, 0, 1, 1, 1, 1, 1, 1]\n",
    "y_pred = [0, 0, 1, 0, 1, 1, 1, 0, 0, 1, 1, 1, 1, 0, 0, 1, 1, 0]\n",
    "sf_data = ['b', 'b', 'a', 'b', 'b', 'c', 'c', 'c', 'a',\n",
    "           'a', 'c', 'a', 'b', 'c', 'c', 'b', 'c', 'c']\n",
    "\n",
    "\n",
    "metrics = {\n",
    "    'accuracy': accuracy_score,\n",
    "    'precision': precision_score, # sufficency\n",
    "    'Negative Predictive Value (NPV)': NPV, #sufficency\n",
    "    'false positive rate': false_positive_rate, # equalized odds\n",
    "    'true positive rate': true_positive_rate, # equalized odds, equalized opportunity  \n",
    "    'Independence(selection rate)': selection_rate,\n",
    "    'count': count\n",
    "    }\n",
    "metric_frame = MetricFrame(metrics=metrics,\n",
    "                           y_true=y_true,\n",
    "                           y_pred=y_pred,\n",
    "                           sensitive_features=sf_data)\n",
    "metric_frame.by_group.plot.bar(\n",
    "    subplots=True,\n",
    "    layout=[3, 3],\n",
    "    legend=False,\n",
    "    figsize=[12, 8],\n",
    "    title=\"Show all metrics\",\n",
    ")\n"
   ]
  },
  {
   "cell_type": "markdown",
   "metadata": {},
   "source": [
    "### Now measure the fairness metrics for our data"
   ]
  },
  {
   "cell_type": "markdown",
   "metadata": {},
   "source": [
    "![](./support4notebook/exercise.jpg)"
   ]
  },
  {
   "cell_type": "code",
   "execution_count": null,
   "metadata": {},
   "outputs": [],
   "source": [
    "mf = MetricFrame(metrics=metrics,\n",
    "                 y_true=test_lab,\n",
    "                 y_pred=test_pred,\n",
    "                 sensitive_features=test_a)\n",
    "\n",
    "print(\"Test set fairness metrics (before mitigation):\")\n",
    "print(mf.by_group)\n",
    "\n",
    "\n"
   ]
  },
  {
   "cell_type": "markdown",
   "metadata": {},
   "source": [
    "### Draw the ROC curve\n",
    "\n",
    "Here we provide the funtion `plot_roc_simple` to draw the ROC curve for each groups."
   ]
  },
  {
   "cell_type": "code",
   "execution_count": null,
   "metadata": {},
   "outputs": [],
   "source": [
    "plot_roc_simple(test_lab, test_prob, test_a, test_pred,\n",
    "        sensitive_attribute_name = 'sex',\n",
    "        )"
   ]
  },
  {
   "cell_type": "markdown",
   "metadata": {},
   "source": [
    "### 💥 Exercise and discusssion:\n",
    "* What do you see from the metrics and the ROC curve?\n",
    "We can see that classification for males has better performece. \n",
    "current classifier have smallet TPR but also much smaller FPR \n",
    "* Try to measure and desribe the fairness wrt the 3 creterias we learned from class"
   ]
  },
  {
   "cell_type": "code",
   "execution_count": null,
   "metadata": {},
   "outputs": [],
   "source": [
    "mf.by_group.plot.bar(\n",
    "    subplots=True,\n",
    "    layout=[3, 3],\n",
    "    legend=False,\n",
    "    figsize=[12, 8],\n",
    "    title=\"Show all metrics\",\n",
    ")"
   ]
  },
  {
   "cell_type": "markdown",
   "metadata": {},
   "source": [
    "## 3. Bias mitigation using Fairlearn\n",
    "\n",
    "### Recall from the class\n",
    "* what kinds of mitigation methods have we learned?\n",
    "\n",
    "- Adjusting data, modifi model training, post-preprocessing bias mitigation\n",
    "\n",
    "In this exercise, we will try to use the one pf the post-preprocessing bias mitiagtion method Fairlearn provided: **Threshold Optimization**, to implement the bias mitigation steps. \n",
    "\n",
    "### The theory of Threshold Optimization\n",
    "\n",
    "\n",
    "The idea could be simply visualized as below (figure from the [original paper](https://arxiv.org/pdf/1610.02413)):  \n",
    "![](./support4notebook/threshold_op.png)"
   ]
  },
  {
   "cell_type": "markdown",
   "metadata": {},
   "source": [
    "Where blue/green represent two sensitive groups, any points in the overlapping region meet the requirement of equalized odds:\n",
    "\n",
    "$$\n",
    "\\gamma_0(\\hat{Y}) = \\gamma_1(\\hat{Y}),\n",
    "$$\n",
    "\n",
    "where \n",
    "\n",
    "$$\n",
    "\\gamma_a (\\hat{Y}) = \\left(Pr(\\hat{Y} = 1 | A = a, Y = 0), Pr(\\hat{Y} = 1 | A = a, Y=1)\\right).\n",
    "$$\n",
    "\n",
    "The goal of the threshold optimizer is to find the point in the overlapping region that optimizes the objective function, such as balanced accuracy.\n",
    "\n",
    "To achieve this, **randomization** is introduced. The idea is starightforward: any point under the ROC curve can be estimated by weighting two points on the ROC curve (which could be achieved by simply thresholding); or in another word, a new decision threshold $T_a$ can be a randomized mixture of two decision thresholds $\\underline{t}_a$ and $\\overline{t}_a$.\n",
    "\n",
    "(See the figure below, which is from [this paper](https://arxiv.org/abs/2202.08536)).\n",
    "\n",
    "![Randomization Figure](./support4notebook/randomization.png)"
   ]
  },
  {
   "cell_type": "markdown",
   "metadata": {},
   "source": [
    "\n",
    "📃 Further Reading:\n",
    "* [Fairlearn *ThresholdOptimizier* page](https://fairlearn.org/v0.5.0/api_reference/fairlearn.postprocessing.html).\n",
    "* The original paper (See section 3): [Equality of opportunity in supervised learning](https://arxiv.org/pdf/1610.02413).\n",
    "\n",
    "\n"
   ]
  },
  {
   "cell_type": "markdown",
   "metadata": {},
   "source": [
    "### 🪄 Trick: A fake classifier class\n",
    "\n",
    "Fairlearn has some limitations when implementing the `ThresholdOptimizer` method. To work around these issues, a fake classifier is provided to bypass minor problems. If you use the provided classifier, this fake class should work just as well.\n",
    "\n",
    "However, if you're curious about what went wrong or want to use your own classifier, please read below:\n",
    "\n",
    "* **Problem 1: `estimator` in `ThresholdOptimizer` only accepts 2D input (tabular data).** This doesn’t make sense for post-processing mitigation methods, as the only relevant aspect here is the prediction scores from the test set. The classifier itself and the input data are irrelevant when optimizing the threshold.\n",
    "  \n",
    "* **Problem 2: The `prefit` parameter checks whether the model has been fitted in a simplistic way, leading to errors.** You can read more about this fit check function [here](https://scikit-learn.org/stable/modules/generated/sklearn.utils.validation.check_is_fitted.html).\n",
    "  \n",
    "* **Problem 3: It requires the prediction function to return scores for both classes in binary classification.** This might be an issue if your classifier only provides the probability for class 1.\n",
    "\n",
    "**How we solve this**: We create a fake classifier that accepts 2D input and reshapes it back to the original image size before feeding it into the prediction function. We trick the fit check by defining a fake variable and manually modify the output of the prediction function to include both classes if it only returns the probability for class 1.\n",
    "\n",
    "Note: If you trained your own classifier, you will need to implement a custom fake classifier yourself."
   ]
  },
  {
   "cell_type": "code",
   "execution_count": 14,
   "metadata": {},
   "outputs": [],
   "source": [
    "from sklearn.base import BaseEstimator, ClassifierMixin\n",
    "\n",
    "class FakeClassifierInput2D(BaseEstimator,ClassifierMixin):\n",
    "    '''\n",
    "    Fake classifier that takes 2D input, with pre-trained model that does not take 2D input data\n",
    "    '''\n",
    "    def __init__(self,model, img_size):\n",
    "        self.model = model\n",
    "        self.img_size = img_size\n",
    "        self.input_from_2D_func = lambda x: torch.reshape(x,(-1,)+self.img_size)\n",
    "        # self.input_from_2D_func = input_from_2D_func\n",
    "        self.fit_ = True # fake the check_fit function inside the fairlearn library\n",
    "    \n",
    "    def eval(self):\n",
    "        self.model.eval()\n",
    "           \n",
    "    def fit(self, X, y):\n",
    "        # Do not need to fit\n",
    "        return\n",
    "\n",
    "    def predict(self, X_2D, ):\n",
    "        assert len(X_2D.shape) == 2\n",
    "        X = self.input_from_2D_func(X_2D)\n",
    "        return self.model.predict(X)\n",
    "    \n",
    "    def predict_proba(self, X_2D):\n",
    "        X = self.input_from_2D_func(X_2D)\n",
    "        return self.model.predict_proba(X)\n",
    "    \n"
   ]
  },
  {
   "cell_type": "markdown",
   "metadata": {},
   "source": [
    "### Optimize on validation set"
   ]
  },
  {
   "cell_type": "code",
   "execution_count": null,
   "metadata": {},
   "outputs": [],
   "source": [
    "X_test, y_test, a_test = from_loader_to_tensor(test_loader,device)\n",
    "X_val, y_val, a_val = from_loader_to_tensor(val_loader,device)\n",
    "\n",
    "X_test_2D = torch.reshape(X_test,(X_test.shape[0],-1))\n",
    "X_val_2D = torch.reshape(X_val,(X_val.shape[0],-1))"
   ]
  },
  {
   "cell_type": "code",
   "execution_count": 16,
   "metadata": {},
   "outputs": [],
   "source": [
    "classifier_fake = FakeClassifierInput2D(model=classifier.to('cpu'),\n",
    "                                       img_size = img_size,)\n"
   ]
  },
  {
   "cell_type": "markdown",
   "metadata": {},
   "source": [
    "Your code here:"
   ]
  },
  {
   "cell_type": "code",
   "execution_count": null,
   "metadata": {},
   "outputs": [],
   "source": [
    "X_test_2D.shape"
   ]
  },
  {
   "cell_type": "markdown",
   "metadata": {},
   "source": [
    "### Use the new threshold for the test set"
   ]
  },
  {
   "cell_type": "markdown",
   "metadata": {},
   "source": [
    "Your code here:"
   ]
  },
  {
   "cell_type": "code",
   "execution_count": 26,
   "metadata": {},
   "outputs": [
    {
     "data": {
      "text/html": [
       "<style>#sk-container-id-3 {color: black;}#sk-container-id-3 pre{padding: 0;}#sk-container-id-3 div.sk-toggleable {background-color: white;}#sk-container-id-3 label.sk-toggleable__label {cursor: pointer;display: block;width: 100%;margin-bottom: 0;padding: 0.3em;box-sizing: border-box;text-align: center;}#sk-container-id-3 label.sk-toggleable__label-arrow:before {content: \"▸\";float: left;margin-right: 0.25em;color: #696969;}#sk-container-id-3 label.sk-toggleable__label-arrow:hover:before {color: black;}#sk-container-id-3 div.sk-estimator:hover label.sk-toggleable__label-arrow:before {color: black;}#sk-container-id-3 div.sk-toggleable__content {max-height: 0;max-width: 0;overflow: hidden;text-align: left;background-color: #f0f8ff;}#sk-container-id-3 div.sk-toggleable__content pre {margin: 0.2em;color: black;border-radius: 0.25em;background-color: #f0f8ff;}#sk-container-id-3 input.sk-toggleable__control:checked~div.sk-toggleable__content {max-height: 200px;max-width: 100%;overflow: auto;}#sk-container-id-3 input.sk-toggleable__control:checked~label.sk-toggleable__label-arrow:before {content: \"▾\";}#sk-container-id-3 div.sk-estimator input.sk-toggleable__control:checked~label.sk-toggleable__label {background-color: #d4ebff;}#sk-container-id-3 div.sk-label input.sk-toggleable__control:checked~label.sk-toggleable__label {background-color: #d4ebff;}#sk-container-id-3 input.sk-hidden--visually {border: 0;clip: rect(1px 1px 1px 1px);clip: rect(1px, 1px, 1px, 1px);height: 1px;margin: -1px;overflow: hidden;padding: 0;position: absolute;width: 1px;}#sk-container-id-3 div.sk-estimator {font-family: monospace;background-color: #f0f8ff;border: 1px dotted black;border-radius: 0.25em;box-sizing: border-box;margin-bottom: 0.5em;}#sk-container-id-3 div.sk-estimator:hover {background-color: #d4ebff;}#sk-container-id-3 div.sk-parallel-item::after {content: \"\";width: 100%;border-bottom: 1px solid gray;flex-grow: 1;}#sk-container-id-3 div.sk-label:hover label.sk-toggleable__label {background-color: #d4ebff;}#sk-container-id-3 div.sk-serial::before {content: \"\";position: absolute;border-left: 1px solid gray;box-sizing: border-box;top: 0;bottom: 0;left: 50%;z-index: 0;}#sk-container-id-3 div.sk-serial {display: flex;flex-direction: column;align-items: center;background-color: white;padding-right: 0.2em;padding-left: 0.2em;position: relative;}#sk-container-id-3 div.sk-item {position: relative;z-index: 1;}#sk-container-id-3 div.sk-parallel {display: flex;align-items: stretch;justify-content: center;background-color: white;position: relative;}#sk-container-id-3 div.sk-item::before, #sk-container-id-3 div.sk-parallel-item::before {content: \"\";position: absolute;border-left: 1px solid gray;box-sizing: border-box;top: 0;bottom: 0;left: 50%;z-index: -1;}#sk-container-id-3 div.sk-parallel-item {display: flex;flex-direction: column;z-index: 1;position: relative;background-color: white;}#sk-container-id-3 div.sk-parallel-item:first-child::after {align-self: flex-end;width: 50%;}#sk-container-id-3 div.sk-parallel-item:last-child::after {align-self: flex-start;width: 50%;}#sk-container-id-3 div.sk-parallel-item:only-child::after {width: 0;}#sk-container-id-3 div.sk-dashed-wrapped {border: 1px dashed gray;margin: 0 0.4em 0.5em 0.4em;box-sizing: border-box;padding-bottom: 0.4em;background-color: white;}#sk-container-id-3 div.sk-label label {font-family: monospace;font-weight: bold;display: inline-block;line-height: 1.2em;}#sk-container-id-3 div.sk-label-container {text-align: center;}#sk-container-id-3 div.sk-container {/* jupyter's `normalize.less` sets `[hidden] { display: none; }` but bootstrap.min.css set `[hidden] { display: none !important; }` so we also need the `!important` here to be able to override the default hidden behavior on the sphinx rendered scikit-learn.org. See: https://github.com/scikit-learn/scikit-learn/issues/21755 */display: inline-block !important;position: relative;}#sk-container-id-3 div.sk-text-repr-fallback {display: none;}</style><div id=\"sk-container-id-3\" class=\"sk-top-container\"><div class=\"sk-text-repr-fallback\"><pre>ThresholdOptimizer(constraints=&#x27;equalized_odds&#x27;,\n",
       "                   estimator=FakeClassifierInput2D(img_size=(1, 224, 224),\n",
       "                                                   model=ResNet(\n",
       "  (model): ResNet(\n",
       "    (conv1): Conv2d(1, 64, kernel_size=(7, 7), stride=(2, 2), padding=(3, 3), bias=False)\n",
       "    (bn1): BatchNorm2d(64, eps=1e-05, momentum=0.1, affine=True, track_running_stats=True)\n",
       "    (relu): ReLU(inplace=True)\n",
       "    (maxpool): MaxPool2d(kernel_size=3, strid...\n",
       "        (conv2): Conv2d(512, 512, kernel_size=(3, 3), stride=(1, 1), padding=(1, 1), bias=False)\n",
       "        (bn2): BatchNorm2d(512, eps=1e-05, momentum=0.1, affine=True, track_running_stats=True)\n",
       "      )\n",
       "    )\n",
       "    (avgpool): AdaptiveAvgPool2d(output_size=(1, 1))\n",
       "    (fc): Linear(in_features=512, out_features=1, bias=True)\n",
       "  )\n",
       "  (loss_fn): BCEWithLogitsLoss()\n",
       "  (accu_func): BinaryAccuracy()\n",
       "  (auroc_func): BinaryAUROC()\n",
       ")),\n",
       "                   objective=&#x27;balanced_accuracy_score&#x27;, predict_method=&#x27;auto&#x27;,\n",
       "                   prefit=True)</pre><b>In a Jupyter environment, please rerun this cell to show the HTML representation or trust the notebook. <br />On GitHub, the HTML representation is unable to render, please try loading this page with nbviewer.org.</b></div><div class=\"sk-container\" hidden><div class=\"sk-item sk-dashed-wrapped\"><div class=\"sk-label-container\"><div class=\"sk-label sk-toggleable\"><input class=\"sk-toggleable__control sk-hidden--visually\" id=\"sk-estimator-id-7\" type=\"checkbox\" ><label for=\"sk-estimator-id-7\" class=\"sk-toggleable__label sk-toggleable__label-arrow\">ThresholdOptimizer</label><div class=\"sk-toggleable__content\"><pre>ThresholdOptimizer(constraints=&#x27;equalized_odds&#x27;,\n",
       "                   estimator=FakeClassifierInput2D(img_size=(1, 224, 224),\n",
       "                                                   model=ResNet(\n",
       "  (model): ResNet(\n",
       "    (conv1): Conv2d(1, 64, kernel_size=(7, 7), stride=(2, 2), padding=(3, 3), bias=False)\n",
       "    (bn1): BatchNorm2d(64, eps=1e-05, momentum=0.1, affine=True, track_running_stats=True)\n",
       "    (relu): ReLU(inplace=True)\n",
       "    (maxpool): MaxPool2d(kernel_size=3, strid...\n",
       "        (conv2): Conv2d(512, 512, kernel_size=(3, 3), stride=(1, 1), padding=(1, 1), bias=False)\n",
       "        (bn2): BatchNorm2d(512, eps=1e-05, momentum=0.1, affine=True, track_running_stats=True)\n",
       "      )\n",
       "    )\n",
       "    (avgpool): AdaptiveAvgPool2d(output_size=(1, 1))\n",
       "    (fc): Linear(in_features=512, out_features=1, bias=True)\n",
       "  )\n",
       "  (loss_fn): BCEWithLogitsLoss()\n",
       "  (accu_func): BinaryAccuracy()\n",
       "  (auroc_func): BinaryAUROC()\n",
       ")),\n",
       "                   objective=&#x27;balanced_accuracy_score&#x27;, predict_method=&#x27;auto&#x27;,\n",
       "                   prefit=True)</pre></div></div></div><div class=\"sk-parallel\"><div class=\"sk-parallel-item\"><div class=\"sk-item\"><div class=\"sk-label-container\"><div class=\"sk-label sk-toggleable\"><input class=\"sk-toggleable__control sk-hidden--visually\" id=\"sk-estimator-id-8\" type=\"checkbox\" ><label for=\"sk-estimator-id-8\" class=\"sk-toggleable__label sk-toggleable__label-arrow\">estimator: FakeClassifierInput2D</label><div class=\"sk-toggleable__content\"><pre>FakeClassifierInput2D(img_size=(1, 224, 224),\n",
       "                      model=ResNet(\n",
       "  (model): ResNet(\n",
       "    (conv1): Conv2d(1, 64, kernel_size=(7, 7), stride=(2, 2), padding=(3, 3), bias=False)\n",
       "    (bn1): BatchNorm2d(64, eps=1e-05, momentum=0.1, affine=True, track_running_stats=True)\n",
       "    (relu): ReLU(inplace=True)\n",
       "    (maxpool): MaxPool2d(kernel_size=3, stride=2, padding=1, dilation=1, ceil_mode=False)\n",
       "    (layer1): Sequenti...\n",
       "        (relu): ReLU(inplace=True)\n",
       "        (conv2): Conv2d(512, 512, kernel_size=(3, 3), stride=(1, 1), padding=(1, 1), bias=False)\n",
       "        (bn2): BatchNorm2d(512, eps=1e-05, momentum=0.1, affine=True, track_running_stats=True)\n",
       "      )\n",
       "    )\n",
       "    (avgpool): AdaptiveAvgPool2d(output_size=(1, 1))\n",
       "    (fc): Linear(in_features=512, out_features=1, bias=True)\n",
       "  )\n",
       "  (loss_fn): BCEWithLogitsLoss()\n",
       "  (accu_func): BinaryAccuracy()\n",
       "  (auroc_func): BinaryAUROC()\n",
       "))</pre></div></div></div><div class=\"sk-serial\"><div class=\"sk-item\"><div class=\"sk-estimator sk-toggleable\"><input class=\"sk-toggleable__control sk-hidden--visually\" id=\"sk-estimator-id-9\" type=\"checkbox\" ><label for=\"sk-estimator-id-9\" class=\"sk-toggleable__label sk-toggleable__label-arrow\">FakeClassifierInput2D</label><div class=\"sk-toggleable__content\"><pre>FakeClassifierInput2D(img_size=(1, 224, 224),\n",
       "                      model=ResNet(\n",
       "  (model): ResNet(\n",
       "    (conv1): Conv2d(1, 64, kernel_size=(7, 7), stride=(2, 2), padding=(3, 3), bias=False)\n",
       "    (bn1): BatchNorm2d(64, eps=1e-05, momentum=0.1, affine=True, track_running_stats=True)\n",
       "    (relu): ReLU(inplace=True)\n",
       "    (maxpool): MaxPool2d(kernel_size=3, stride=2, padding=1, dilation=1, ceil_mode=False)\n",
       "    (layer1): Sequenti...\n",
       "        (relu): ReLU(inplace=True)\n",
       "        (conv2): Conv2d(512, 512, kernel_size=(3, 3), stride=(1, 1), padding=(1, 1), bias=False)\n",
       "        (bn2): BatchNorm2d(512, eps=1e-05, momentum=0.1, affine=True, track_running_stats=True)\n",
       "      )\n",
       "    )\n",
       "    (avgpool): AdaptiveAvgPool2d(output_size=(1, 1))\n",
       "    (fc): Linear(in_features=512, out_features=1, bias=True)\n",
       "  )\n",
       "  (loss_fn): BCEWithLogitsLoss()\n",
       "  (accu_func): BinaryAccuracy()\n",
       "  (auroc_func): BinaryAUROC()\n",
       "))</pre></div></div></div></div></div></div></div></div></div></div>"
      ],
      "text/plain": [
       "ThresholdOptimizer(constraints='equalized_odds',\n",
       "                   estimator=FakeClassifierInput2D(img_size=(1, 224, 224),\n",
       "                                                   model=ResNet(\n",
       "  (model): ResNet(\n",
       "    (conv1): Conv2d(1, 64, kernel_size=(7, 7), stride=(2, 2), padding=(3, 3), bias=False)\n",
       "    (bn1): BatchNorm2d(64, eps=1e-05, momentum=0.1, affine=True, track_running_stats=True)\n",
       "    (relu): ReLU(inplace=True)\n",
       "    (maxpool): MaxPool2d(kernel_size=3, strid...\n",
       "        (conv2): Conv2d(512, 512, kernel_size=(3, 3), stride=(1, 1), padding=(1, 1), bias=False)\n",
       "        (bn2): BatchNorm2d(512, eps=1e-05, momentum=0.1, affine=True, track_running_stats=True)\n",
       "      )\n",
       "    )\n",
       "    (avgpool): AdaptiveAvgPool2d(output_size=(1, 1))\n",
       "    (fc): Linear(in_features=512, out_features=1, bias=True)\n",
       "  )\n",
       "  (loss_fn): BCEWithLogitsLoss()\n",
       "  (accu_func): BinaryAccuracy()\n",
       "  (auroc_func): BinaryAUROC()\n",
       ")),\n",
       "                   objective='balanced_accuracy_score', predict_method='auto',\n",
       "                   prefit=True)"
      ]
     },
     "execution_count": 26,
     "metadata": {},
     "output_type": "execute_result"
    }
   ],
   "source": [
    "from fairlearn import postprocessing\n",
    "from tqdm import tqdm\n",
    "from sklearn.model_selection import StratifiedKFold\n",
    "\n",
    "# Initialize the ThresholdOptimizer\n",
    "threshold_optimizer = postprocessing.ThresholdOptimizer(\n",
    "    estimator=classifier_fake,\n",
    "    constraints=\"equalized_odds\",\n",
    "    objective=\"balanced_accuracy_score\",\n",
    "    prefit=True,\n",
    "    predict_method='auto'\n",
    ")\n",
    "\n",
    "threshold_optimizer.fit(X_val_2D, y_val, sensitive_features=a_val)\n"
   ]
  },
  {
   "cell_type": "code",
   "execution_count": 27,
   "metadata": {},
   "outputs": [],
   "source": [
    "y_pred_fair_val = threshold_optimizer.predict(X_val_2D, sensitive_features=a_val)\n"
   ]
  },
  {
   "cell_type": "code",
   "execution_count": 28,
   "metadata": {},
   "outputs": [
    {
     "data": {
      "image/png": "[encoded data removed]",
      "text/plain": [
       "<Figure size 1000x800 with 1 Axes>"
      ]
     },
     "metadata": {},
     "output_type": "display_data"
    }
   ],
   "source": [
    "plot_roc_simple(val_lav, val_prob, val_a, y_pred_fair_val, sensitive_attribute_name = 'sex')"
   ]
  },
  {
   "cell_type": "markdown",
   "metadata": {},
   "source": [
    "### To find out how the prediction come from (the new threshold $T_a$)"
   ]
  },
  {
   "cell_type": "code",
   "execution_count": 29,
   "metadata": {},
   "outputs": [
    {
     "name": "stdout",
     "output_type": "stream",
     "text": [
      "{\n",
      "    \"0.0\": {\n",
      "        \"p_ignore\": 0.0,\n",
      "        \"prediction_constant\": 0.317,\n",
      "        \"p0\": 0.9932222222222229,\n",
      "        \"operation0\": \"[>0.30685360729694366]\",\n",
      "        \"p1\": 0.006777777777777105,\n",
      "        \"operation1\": \"[>0.2707938700914383]\"\n",
      "    },\n",
      "    \"1.0\": {\n",
      "        \"p_ignore\": 0.11022723354625812,\n",
      "        \"prediction_constant\": 0.317,\n",
      "        \"p0\": 0.5154907975460122,\n",
      "        \"operation0\": \"[>0.24994366616010666]\",\n",
      "        \"p1\": 0.48450920245398776,\n",
      "        \"operation1\": \"[>0.06453405693173409]\"\n",
      "    }\n",
      "}\n"
     ]
    }
   ],
   "source": [
    "import json\n",
    "threshold_rules_by_group = threshold_optimizer.interpolated_thresholder_.interpolation_dict\n",
    "print(json.dumps(threshold_rules_by_group, default=str, indent=4))"
   ]
  },
  {
   "cell_type": "markdown",
   "metadata": {},
   "source": [
    "### 💥 Exercise and Discussion:\n",
    "* Can you write down the new threshold function? ([Hint](https://fairlearn.org/v0.10/user_guide/mitigation/postprocessing.html#postprocessing))\n",
    "* Compare the results. What do you observe, and does this model seem fair to you?\n",
    "* Hint: After optimization, you may notice that accuracy (or other metrics) is more balanced between groups. However, the overall accuracy (or other metrics of interest) may decrease for both groups. Do you think this is still a good or acceptable solution?\n"
   ]
  },
  {
   "cell_type": "markdown",
   "metadata": {},
   "source": [
    "![](./support4notebook/dilemma.jpg)"
   ]
  },
  {
   "cell_type": "markdown",
   "metadata": {},
   "source": [
    "# PART 2: Potential pitfall: Algorithmic fairness in the presence of label noise\n",
    "As mentioned in class, it is easy to diagnose algorithmic bias. This is, however, only true if we have access to correct target labels for the test set. In this part of the project, we will simulate a situation where our test set ground truth target labels are incorrect in a biased way: You will simulate overdiagnosis among male individuals, by manually distorting some of their labels. Next, you will analyze how this affects the diagnosis and mitigation of algorithmic bias.\n",
    "\n",
    "## Write a script to distort the labels for the male individuals according to the following recipe:\n",
    "* Please create a new set of distorted target labels\n",
    "* Initialize these as identical to the supplied target labels\n",
    "* Manually distort them by flipping 30% of the healthy labels for male individuals to diseased. These should be selected at random.\n",
    "\n",
    "## Now repeat your analysis from Part 1 for your classifier from Part 1 using the distorted labels. \n",
    "You don’t need to retrain the classifier – you will only repeat the diagnosis and mitigation parts.\n",
    "\n",
    "* Diagnose algorithmic bias with respect to your distorted labels. Do your conclusions change?\n",
    "* Mitigate algorithmic bias with respect to your distorted labels. Following this, repeat your diagnostic pipeline both with respect to your distorted and original labels. What do you see? Did mitigation ensure improved fairness with respect to the distorted labels? What happened with respect to the actual (original) labels? Is the mitigated algorithm actually fair?\n",
    "\n",
    "\n",
    "\n"
   ]
  },
  {
   "cell_type": "markdown",
   "metadata": {},
   "source": [
    "![](./support4notebook/dataset.jpg)"
   ]
  }
 ],
 "metadata": {
  "kernelspec": {
   "display_name": "rai_fairness",
   "language": "python",
   "name": "python3"
  },
  "language_info": {
   "codemirror_mode": {
    "name": "ipython",
    "version": 3
   },
   "file_extension": ".py",
   "mimetype": "text/x-python",
   "name": "python",
   "nbconvert_exporter": "python",
   "pygments_lexer": "ipython3",
   "version": "3.9.19"
  }
 },
 "nbformat": 4,
 "nbformat_minor": 2
}
